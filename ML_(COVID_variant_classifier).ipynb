{
  "nbformat": 4,
  "nbformat_minor": 0,
  "metadata": {
    "colab": {
      "provenance": [],
      "authorship_tag": "ABX9TyN9hl23qF3r8TKCs5tA9AfJ",
      "include_colab_link": true
    },
    "kernelspec": {
      "name": "ir",
      "display_name": "R"
    },
    "language_info": {
      "name": "R"
    }
  },
  "cells": [
    {
      "cell_type": "markdown",
      "metadata": {
        "id": "view-in-github",
        "colab_type": "text"
      },
      "source": [
        "<a href=\"https://colab.research.google.com/github/xdu006/COVID-Variant-Classifier/blob/main/ML_(COVID_variant_classifier).ipynb\" target=\"_parent\"><img src=\"https://colab.research.google.com/assets/colab-badge.svg\" alt=\"Open In Colab\"/></a>"
      ]
    },
    {
      "cell_type": "code",
      "source": [
        "#install dependencies\n",
        "install.packages(\"rentrez\")\n",
        "install.packages(\"randomForest\")\n",
        "\n",
        "if (!require(\"BiocManager\", quietly = TRUE)) install.packages(\"BiocManager\")\n",
        "\n",
        "BiocManager::install(\"Biostrings\")"
      ],
      "metadata": {
        "colab": {
          "base_uri": "https://localhost:8080/"
        },
        "id": "6yqGGUVETNa6",
        "outputId": "591240de-3dd1-4d23-faf6-d52517dfb93c"
      },
      "execution_count": 20,
      "outputs": [
        {
          "output_type": "stream",
          "name": "stderr",
          "text": [
            "Installing package into ‘/usr/local/lib/R/site-library’\n",
            "(as ‘lib’ is unspecified)\n",
            "\n",
            "Installing package into ‘/usr/local/lib/R/site-library’\n",
            "(as ‘lib’ is unspecified)\n",
            "\n",
            "'getOption(\"repos\")' replaces Bioconductor standard repositories, see\n",
            "'help(\"repositories\", package = \"BiocManager\")' for details.\n",
            "Replacement repositories:\n",
            "    CRAN: https://cran.rstudio.com\n",
            "\n",
            "Bioconductor version 3.19 (BiocManager 1.30.23), R 4.4.1 (2024-06-14)\n",
            "\n",
            "Warning message:\n",
            "“package(s) not installed when version(s) same as or greater than current; use\n",
            "  `force = TRUE` to re-install: 'Biostrings'”\n",
            "Old packages: 'gert', 'Rcpp', 'tinytex', 'xfun'\n",
            "\n"
          ]
        }
      ]
    },
    {
      "cell_type": "code",
      "execution_count": 21,
      "metadata": {
        "colab": {
          "base_uri": "https://localhost:8080/"
        },
        "id": "S44D1A7dShzf",
        "outputId": "5e2d9594-0822-4da4-8800-bc5942120fb4"
      },
      "outputs": [
        {
          "output_type": "stream",
          "name": "stderr",
          "text": [
            "randomForest 4.7-1.1\n",
            "\n",
            "Type rfNews() to see new features/changes/bug fixes.\n",
            "\n",
            "\n",
            "Attaching package: ‘randomForest’\n",
            "\n",
            "\n",
            "The following object is masked from ‘package:BiocGenerics’:\n",
            "\n",
            "    combine\n",
            "\n",
            "\n",
            "The following object is masked from ‘package:dplyr’:\n",
            "\n",
            "    combine\n",
            "\n",
            "\n",
            "The following object is masked from ‘package:ggplot2’:\n",
            "\n",
            "    margin\n",
            "\n",
            "\n"
          ]
        },
        {
          "output_type": "stream",
          "name": "stdout",
          "text": [
            "[1] \"Total entries per variant: \"\n",
            "[1] 2475   89  532 2864\n"
          ]
        }
      ],
      "source": [
        "#### LOAD LIBRARIES & SEARCH DATABASE----\n",
        "# install.packages(\"Tidyverse\", \"ggpmisc\") #install packages if needed\n",
        "\n",
        "#load libraries\n",
        "library(\"tidyverse\")\n",
        "library(\"rentrez\")\n",
        "library(\"Biostrings\")\n",
        "library(\"stringr\")\n",
        "library(\"randomForest\")\n",
        "\n",
        "#check databases & search terms available (only for process, thus commented out for output clarity)\n",
        "#entrez_dbs()\n",
        "#entrez_db_searchable(db = \"nuccore\")\n",
        "\n",
        "#search for entries of each variant and save the search history\n",
        "#search terms: ensure it is SARS-COV2, contains gene for S protein, RNA-based only (no DNA entries) for consistancy, and variant as indicated below\n",
        "#VARIENTS: Alpha = B.1.1.7 (1000), Beta = B.1.351 (100), Delta = B.1.617.2 (500), Omicron = BA.1 (only original omicron lineage taken for simplicity) (according to https://cov-lineages.org/ PANGOLIN COVID lineage)\n",
        "Alpha <- entrez_search(db = \"nuccore\", term = \"Severe acute respiratory syndrome coronavirus 2[ORGN] AND surface glycoprotein[PROT] NOT DNA[ALL] AND B.1.1.7[ALL]\", retmax = 1, use_history=TRUE)\n",
        "Beta <- entrez_search(db = \"nuccore\", term = \"Severe acute respiratory syndrome coronavirus 2[ORGN] AND surface glycoprotein[PROT] NOT DNA[ALL] AND B.1.351[ALL]\", retmax = 1, use_history=TRUE)\n",
        "Delta <- entrez_search(db = \"nuccore\", term = \"Severe acute respiratory syndrome coronavirus 2[ORGN] AND surface glycoprotein[PROT] NOT DNA[ALL] AND B.1.617.2[ALL]\", retmax = 1, use_history=TRUE)\n",
        "Omicron <- entrez_search(db = \"nuccore\", term = \"Severe acute respiratory syndrome coronavirus 2[ORGN] AND surface glycoprotein[PROT] NOT DNA[ALL] AND BA.1[ALL]\", retmax = 1, use_history=TRUE)\n",
        "\n",
        "#put variant names and search results into a list (iteratable later)\n",
        "variant_results <- list(Alpha, Beta, Delta, Omicron)\n",
        "variant_names <- list(\"Alpha\", \"Beta\", \"Delta\", \"Omicron\")\n",
        "\n",
        "#NOTE: number of entries varies as seen below. Max of 1000 entries taken from each group. (lack of entries may cause bias in machine learning model and cause more uncertain labeling)\n",
        "#check total number of entries found for SARS-COV2 Alpha, Beta, Delta, Omicron respectively:\n",
        "print(\"Total entries per variant: \")\n",
        "print(c(Alpha$count, Beta$count, Delta$count, Omicron$count))\n",
        "\n",
        "#NOTE: there is clear imbalance in the number of entries found. For the purposes of this classifier there are too few beta variant entries for complete undersampling and no extra data available from the database in our scope, thus we will accept the potential class imbalance bias and only undersample to 1500 entries max. One option we an try is to oversample by removing a random character from each Beta variant entry to artificially generate more data, however I ran out of time for this project."
      ]
    },
    {
      "cell_type": "code",
      "source": [
        "#### DOWNLOAD & CLEAN DATA----\n",
        "\n",
        "\n",
        "#NOTE: many steps below are piped/looped to save memory/variable use, but can (and have been) be easily taken apart to test that they work as intended.\n",
        "\n",
        "\n",
        "#initialize variables/counters\n",
        "dfCOVFull=data.frame() #set up overall dataframe\n",
        "i <- 1 #counter\n",
        "\n",
        "#loop to fetch data for each variant (this section in the novel code component for data extraction)\n",
        "for (variant_name in variant_names){\n",
        "\n",
        "  #fetch (using browser history because too many files) all CDS from a set number of entries\n",
        "  entrez_fetch(db = \"nuccore\", web_history=variant_results[[i]]$web_history, rettype = \"fasta_cds_na\", retmax=1500, use_history = TRUE) %>%\n",
        "    #isolate only sequences (CDS) coding surface glycoprotein (spike protein) using regex\n",
        "    str_extract_all(\">[^\\\\]]+\\\\]\\\\s\\\\[protein\\\\=surface\\\\sglycoprotein[^>]+\", simplify = TRUE) %>%\n",
        "    #write to temporary file\n",
        "    write(\"COV_S_proteins_temp.fasta\", sep = \"\\n\")\n",
        "\n",
        "  #read as DNAStringSet\n",
        "  stringSet <- readDNAStringSet(\"COV_S_proteins_temp.fasta\")\n",
        "\n",
        "  #convert our data to a dataframe with the correct variant type, remove empty sequences (due to regex searches) and append new set of data to the current set\n",
        "  dfCOVFull <- data.frame(Variant=variant_name, id=names(stringSet), S_Sequence=paste(stringSet)) %>%\n",
        "    #NOTE: above you can check id column to double check that regex extraction worked (should all be gene=S and protein=surface glycoprotein)\n",
        "    filter(str_length(S_Sequence)>\"100\") %>%\n",
        "    #NOTE: you can rehome the above step to outside the for loop to check number of sequences removed (but it is placed here to save memory for my computer)\n",
        "    rbind(dfCOVFull) #append to dataframe\n",
        "\n",
        "  i<- i+1 #increment counter\n",
        "  cat(\"Processing data set\",i-1,\"...\") #note for user\n",
        "}\n",
        "\n",
        "cat(\"Dataframe creation DONE\") #note for user\n",
        "\n",
        "#CHECK DATA\n",
        "\n",
        "#some tests to ensure code working as expected\n",
        "# View(dfCOVFull) #Optional view dataframe to check\n",
        "# dfCOVFull[1,2] == dfCOVFull[11,2] #Check that values are not being replicated (on simplified model with retmax=10)\n",
        "\n",
        "\n",
        "dfCOVFull %>% group_by(Variant) %>% count() #check the number of available data after simple processing\n",
        "sum(is.na(dfCOVFull$S_Sequence)) #should be no NAs in data (All false (0), therefore sum = 0)\n",
        "\n",
        "#check length of sequences to ensure they are more or less the same protein...\n",
        "str_length(dfCOVFull$S_Sequence) %>% hist(xlab = \"Sequence Length (NAs)\", ylab = \"Frequency\", main = \"Frequency Histogram of Spike Protein Sequence Lengths\", )\n",
        "str_length(dfCOVFull$S_Sequence) %>% table()\n",
        "str_length(dfCOVFull$S_Sequence) %>% summary()\n",
        "#NOTE: very good distribution, except clear outlier at 2562. Remove these datapoints.\n",
        "dfCOVFull <- dfCOVFull %>% filter(str_count(S_Sequence) > 3000)\n",
        "\n",
        "#check again, looks good!\n",
        "str_length(dfCOVFull$S_Sequence) %>% hist(xlab = \"Sequence Length (NAs)\", ylab = \"Frequency\", main = \"Frequency Histogram of Spike Protein Sequence Lengths\", )\n",
        "str_length(dfCOVFull$S_Sequence) %>% table()\n",
        "str_length(dfCOVFull$S_Sequence) %>% summary()"
      ],
      "metadata": {
        "colab": {
          "base_uri": "https://localhost:8080/",
          "height": 1000
        },
        "id": "IDhc1QsJTHkZ",
        "outputId": "6e616844-d3ec-4d45-e50f-9d104c70c242"
      },
      "execution_count": 30,
      "outputs": [
        {
          "output_type": "stream",
          "name": "stdout",
          "text": [
            "Processing data set 1 ...Processing data set 2 ...Processing data set 3 ...Processing data set 4 ...Dataframe creation DONE"
          ]
        },
        {
          "output_type": "display_data",
          "data": {
            "text/html": [
              "<table class=\"dataframe\">\n",
              "<caption>A grouped_df: 4 × 2</caption>\n",
              "<thead>\n",
              "\t<tr><th scope=col>Variant</th><th scope=col>n</th></tr>\n",
              "\t<tr><th scope=col>&lt;chr&gt;</th><th scope=col>&lt;int&gt;</th></tr>\n",
              "</thead>\n",
              "<tbody>\n",
              "\t<tr><td>Alpha  </td><td>1344</td></tr>\n",
              "\t<tr><td>Beta   </td><td>  86</td></tr>\n",
              "\t<tr><td>Delta  </td><td> 514</td></tr>\n",
              "\t<tr><td>Omicron</td><td>1500</td></tr>\n",
              "</tbody>\n",
              "</table>\n"
            ],
            "text/markdown": "\nA grouped_df: 4 × 2\n\n| Variant &lt;chr&gt; | n &lt;int&gt; |\n|---|---|\n| Alpha   | 1344 |\n| Beta    |   86 |\n| Delta   |  514 |\n| Omicron | 1500 |\n\n",
            "text/latex": "A grouped\\_df: 4 × 2\n\\begin{tabular}{ll}\n Variant & n\\\\\n <chr> & <int>\\\\\n\\hline\n\t Alpha   & 1344\\\\\n\t Beta    &   86\\\\\n\t Delta   &  514\\\\\n\t Omicron & 1500\\\\\n\\end{tabular}\n",
            "text/plain": [
              "  Variant n   \n",
              "1 Alpha   1344\n",
              "2 Beta      86\n",
              "3 Delta    514\n",
              "4 Omicron 1500"
            ]
          },
          "metadata": {}
        },
        {
          "output_type": "display_data",
          "data": {
            "text/html": [
              "0"
            ],
            "text/markdown": "0",
            "text/latex": "0",
            "text/plain": [
              "[1] 0"
            ]
          },
          "metadata": {}
        },
        {
          "output_type": "display_data",
          "data": {
            "text/plain": [
              ".\n",
              "2562 3687 3693 3702 3717 3726 3729 3750 3771 3786 3789 3801 3804 3807 3810 3813 \n",
              "   6    1   21    2    5    1    1    1    2    2    1    1  669  250   11 1931 \n",
              "3816 3819 3822 3831 3834 \n",
              " 409   17  110    2    1 "
            ]
          },
          "metadata": {}
        },
        {
          "output_type": "display_data",
          "data": {
            "text/plain": [
              "   Min. 1st Qu.  Median    Mean 3rd Qu.    Max. \n",
              "   2562    3807    3813    3808    3813    3834 "
            ]
          },
          "metadata": {}
        },
        {
          "output_type": "display_data",
          "data": {
            "text/plain": [
              "Plot with title “Frequency Histogram of Spike Protein Sequence Lengths”"
            ],
            "image/png": "[encoded data removed]"
          },
          "metadata": {
            "image/png": {
              "width": 420,
              "height": 420
            }
          }
        },
        {
          "output_type": "display_data",
          "data": {
            "text/plain": [
              ".\n",
              "3687 3693 3702 3717 3726 3729 3750 3771 3786 3789 3801 3804 3807 3810 3813 3816 \n",
              "   1   21    2    5    1    1    1    2    2    1    1  669  250   11 1931  409 \n",
              "3819 3822 3831 3834 \n",
              "  17  110    2    1 "
            ]
          },
          "metadata": {}
        },
        {
          "output_type": "display_data",
          "data": {
            "text/plain": [
              "   Min. 1st Qu.  Median    Mean 3rd Qu.    Max. \n",
              "   3687    3807    3813    3810    3813    3834 "
            ]
          },
          "metadata": {}
        },
        {
          "output_type": "display_data",
          "data": {
            "text/plain": [
              "Plot with title “Frequency Histogram of Spike Protein Sequence Lengths”"
            ],
            "image/png": "[encoded data removed]"
          },
          "metadata": {
            "image/png": {
              "width": 420,
              "height": 420
            }
          }
        }
      ]
    },
    {
      "cell_type": "code",
      "source": [
        "#### RANDOM FOREST DATA PROCESSING & DISTANCE MEASURES----\n",
        "\n",
        "#process data for RandomForest (remove beginning and trailing Ns, gap indicators, and limit number of Ns to <10%)\n",
        "dfCOVFull <- dfCOVFull %>%\n",
        "  mutate(S_Sequence2 = str_remove(S_Sequence, \"^[-N]+\")) %>%\n",
        "  mutate(S_Sequence2 = str_remove(S_Sequence2, \"[-N]+$\")) %>%\n",
        "  mutate(S_Sequence2 = str_remove_all(S_Sequence2, \"-+\")) %>%\n",
        "  filter(str_count(S_Sequence2, \"N\") < (0.1 * str_count(S_Sequence))) #keep sequences with <10% Ns\n",
        "\n",
        "#check amount of remaining data (still imbalanced as expected)\n",
        "dfCOVFull %>% group_by(Variant) %>% count()\n",
        "\n",
        "\n",
        "#CALCULATE DISTANCE MEASURES\n",
        "\n",
        "#convert to DNA stringset to work with\n",
        "dfCOVFull$S_Sequence2 <- DNAStringSet(dfCOVFull$S_Sequence2)\n",
        "\n",
        "#1) ATG PROP\n",
        "\n",
        "#find letter frequency and put into new columns\n",
        "dfCOVFull <- cbind(dfCOVFull, as.data.frame(letterFrequency(dfCOVFull$S_Sequence2, letters = c(\"A\", \"C\",\"G\", \"T\"))))\n",
        "#calculate proportions of each\n",
        "dfCOVFull$Aprop <- (dfCOVFull$A) / (dfCOVFull$A + dfCOVFull$T + dfCOVFull$C + dfCOVFull$G)\n",
        "dfCOVFull$Tprop <- (dfCOVFull$T) / (dfCOVFull$A + dfCOVFull$T + dfCOVFull$C + dfCOVFull$G)\n",
        "dfCOVFull$Gprop <- (dfCOVFull$G) / (dfCOVFull$A + dfCOVFull$T + dfCOVFull$C + dfCOVFull$G)\n",
        "\n",
        "dfCOVFull <- dfCOVFull[1:11]\n",
        "\n",
        "#2) KMER OF 2, 3, and 4\n",
        "\n",
        "dfCOVFull <- cbind(dfCOVFull, as.data.frame(dinucleotideFrequency(dfCOVFull$S_Sequence2, as.prob = TRUE)))\n",
        "dfCOVFull <- cbind(dfCOVFull, as.data.frame(trinucleotideFrequency(dfCOVFull$S_Sequence2, as.prob = TRUE)))\n",
        "dfCOVFull <- cbind(dfCOVFull, as.data.frame(oligonucleotideFrequency(x = dfCOVFull$S_Sequence2, width = 4, as.prob = TRUE)))\n",
        "\n",
        "#convert back into char\n",
        "dfCOVFull$S_Sequence2 <- as.character(dfCOVFull$S_Sequence2)"
      ],
      "metadata": {
        "colab": {
          "base_uri": "https://localhost:8080/",
          "height": 224
        },
        "id": "feFP9RINUMQA",
        "outputId": "4d32f46f-c745-48d4-d217-bfb1dd06b56c"
      },
      "execution_count": 31,
      "outputs": [
        {
          "output_type": "display_data",
          "data": {
            "text/html": [
              "<table class=\"dataframe\">\n",
              "<caption>A grouped_df: 4 × 2</caption>\n",
              "<thead>\n",
              "\t<tr><th scope=col>Variant</th><th scope=col>n</th></tr>\n",
              "\t<tr><th scope=col>&lt;chr&gt;</th><th scope=col>&lt;int&gt;</th></tr>\n",
              "</thead>\n",
              "<tbody>\n",
              "\t<tr><td>Alpha  </td><td>1303</td></tr>\n",
              "\t<tr><td>Beta   </td><td>  69</td></tr>\n",
              "\t<tr><td>Delta  </td><td> 460</td></tr>\n",
              "\t<tr><td>Omicron</td><td>1026</td></tr>\n",
              "</tbody>\n",
              "</table>\n"
            ],
            "text/markdown": "\nA grouped_df: 4 × 2\n\n| Variant &lt;chr&gt; | n &lt;int&gt; |\n|---|---|\n| Alpha   | 1303 |\n| Beta    |   69 |\n| Delta   |  460 |\n| Omicron | 1026 |\n\n",
            "text/latex": "A grouped\\_df: 4 × 2\n\\begin{tabular}{ll}\n Variant & n\\\\\n <chr> & <int>\\\\\n\\hline\n\t Alpha   & 1303\\\\\n\t Beta    &   69\\\\\n\t Delta   &  460\\\\\n\t Omicron & 1026\\\\\n\\end{tabular}\n",
            "text/plain": [
              "  Variant n   \n",
              "1 Alpha   1303\n",
              "2 Beta      69\n",
              "3 Delta    460\n",
              "4 Omicron 1026"
            ]
          },
          "metadata": {}
        }
      ]
    },
    {
      "cell_type": "code",
      "source": [
        "#### TRAINING/VALIDATION DATA SEPERATION----\n",
        "\n",
        "#ensure repeatable results\n",
        "set.seed(217)\n",
        "\n",
        "#20% of data in each group/variant should be validation data\n",
        "dfValidation <- dfCOVFull %>%\n",
        "  group_by(Variant) %>%\n",
        "  sample_frac(0.2)\n",
        "\n",
        "#the other 80% is used for training\n",
        "dfTraining <- dfCOVFull %>%\n",
        "  filter(!id %in% dfValidation$id) %>%\n",
        "  group_by(Variant) %>%\n",
        "  sample_frac(0.8)\n",
        "\n",
        "#check amount of training and validation data\n",
        "dfValidation %>% group_by(Variant) %>% count()\n",
        "dfTraining %>% group_by(Variant) %>% count()\n",
        "\n",
        "#set accuracy function for validation later\n",
        "accuracy <- function(x){sum(diag(x)/(sum(rowSums(x)))) * 100} #overall accuracy\n",
        "accuracyPerVariant <- function(x){diag(x)/(rowSums(x)) * 100} #accuracy by variant\n",
        "accuracyWeighted <- function(x){sum(diag(x)/(rowSums(x)))/4 * 100} #accuracy weighted equally for each variant (average of accuracy by variant)\n"
      ],
      "metadata": {
        "colab": {
          "base_uri": "https://localhost:8080/",
          "height": 430
        },
        "id": "M-aWJEBnUMz1",
        "outputId": "2e5d5853-b796-42fc-99d9-f8e003fd3b98"
      },
      "execution_count": 32,
      "outputs": [
        {
          "output_type": "display_data",
          "data": {
            "text/html": [
              "<table class=\"dataframe\">\n",
              "<caption>A grouped_df: 4 × 2</caption>\n",
              "<thead>\n",
              "\t<tr><th scope=col>Variant</th><th scope=col>n</th></tr>\n",
              "\t<tr><th scope=col>&lt;chr&gt;</th><th scope=col>&lt;int&gt;</th></tr>\n",
              "</thead>\n",
              "<tbody>\n",
              "\t<tr><td>Alpha  </td><td>261</td></tr>\n",
              "\t<tr><td>Beta   </td><td> 14</td></tr>\n",
              "\t<tr><td>Delta  </td><td> 92</td></tr>\n",
              "\t<tr><td>Omicron</td><td>205</td></tr>\n",
              "</tbody>\n",
              "</table>\n"
            ],
            "text/markdown": "\nA grouped_df: 4 × 2\n\n| Variant &lt;chr&gt; | n &lt;int&gt; |\n|---|---|\n| Alpha   | 261 |\n| Beta    |  14 |\n| Delta   |  92 |\n| Omicron | 205 |\n\n",
            "text/latex": "A grouped\\_df: 4 × 2\n\\begin{tabular}{ll}\n Variant & n\\\\\n <chr> & <int>\\\\\n\\hline\n\t Alpha   & 261\\\\\n\t Beta    &  14\\\\\n\t Delta   &  92\\\\\n\t Omicron & 205\\\\\n\\end{tabular}\n",
            "text/plain": [
              "  Variant n  \n",
              "1 Alpha   261\n",
              "2 Beta     14\n",
              "3 Delta    92\n",
              "4 Omicron 205"
            ]
          },
          "metadata": {}
        },
        {
          "output_type": "display_data",
          "data": {
            "text/html": [
              "<table class=\"dataframe\">\n",
              "<caption>A grouped_df: 4 × 2</caption>\n",
              "<thead>\n",
              "\t<tr><th scope=col>Variant</th><th scope=col>n</th></tr>\n",
              "\t<tr><th scope=col>&lt;chr&gt;</th><th scope=col>&lt;int&gt;</th></tr>\n",
              "</thead>\n",
              "<tbody>\n",
              "\t<tr><td>Alpha  </td><td>834</td></tr>\n",
              "\t<tr><td>Beta   </td><td> 44</td></tr>\n",
              "\t<tr><td>Delta  </td><td>294</td></tr>\n",
              "\t<tr><td>Omicron</td><td>657</td></tr>\n",
              "</tbody>\n",
              "</table>\n"
            ],
            "text/markdown": "\nA grouped_df: 4 × 2\n\n| Variant &lt;chr&gt; | n &lt;int&gt; |\n|---|---|\n| Alpha   | 834 |\n| Beta    |  44 |\n| Delta   | 294 |\n| Omicron | 657 |\n\n",
            "text/latex": "A grouped\\_df: 4 × 2\n\\begin{tabular}{ll}\n Variant & n\\\\\n <chr> & <int>\\\\\n\\hline\n\t Alpha   & 834\\\\\n\t Beta    &  44\\\\\n\t Delta   & 294\\\\\n\t Omicron & 657\\\\\n\\end{tabular}\n",
            "text/plain": [
              "  Variant n  \n",
              "1 Alpha   834\n",
              "2 Beta     44\n",
              "3 Delta   294\n",
              "4 Omicron 657"
            ]
          },
          "metadata": {}
        }
      ]
    },
    {
      "cell_type": "code",
      "source": [
        "#### RANDOM FOREST 1 (ATG) ----\n",
        "\n",
        "set.seed(200) #reproducible results\n",
        "\n",
        "#BUILD CLASSIFIER\n",
        "\n",
        "gene_classifier <- randomForest::randomForest(x = dfTraining[, 9:11], y = as.factor(dfTraining$Variant), ntree = 50, importance = TRUE)\n",
        "\n",
        "#EVALUATE\n",
        "\n",
        "#training\n",
        "gene_classifier #check error rate estimate\n",
        "#NOTE: from confusion matrix, we can see there is higher error for the undersampled groups as expected (beta and delta)\n",
        "\n",
        "#validation\n",
        "predictValidation <- predict(gene_classifier, dfValidation[, c(1, 9:11)])\n",
        "tab <- table(observed = dfValidation$Variant, predicted = predictValidation) #validation confusion matrix\n",
        "tab\n",
        "\n",
        "#check actual prediction accuracy\n",
        "accuracy(tab)\n",
        "accuracyPerVariant(tab)\n",
        "accuracyWeighted(tab)\n",
        "#90.2% accuracy, pretty good for first try! but weighted accuracy is quite low due to beta group\n",
        "#again, as we can see, there is higher error for the undersampled groups (beta and delta)\n"
      ],
      "metadata": {
        "colab": {
          "base_uri": "https://localhost:8080/",
          "height": 416
        },
        "id": "BTpUWbVQUQuC",
        "outputId": "0f5da0ed-2a66-4c38-ee0b-868993c88e90"
      },
      "execution_count": 33,
      "outputs": [
        {
          "output_type": "display_data",
          "data": {
            "text/plain": [
              "\n",
              "Call:\n",
              " randomForest(x = dfTraining[, 9:11], y = as.factor(dfTraining$Variant),      ntree = 50, importance = TRUE) \n",
              "               Type of random forest: classification\n",
              "                     Number of trees: 50\n",
              "No. of variables tried at each split: 1\n",
              "\n",
              "        OOB estimate of  error rate: 10.61%\n",
              "Confusion matrix:\n",
              "        Alpha Beta Delta Omicron class.error\n",
              "Alpha     758    8    26      42  0.09112710\n",
              "Beta       15   24     1       4  0.45454545\n",
              "Delta      25    0   232      37  0.21088435\n",
              "Omicron    22    2    12     621  0.05479452"
            ]
          },
          "metadata": {}
        },
        {
          "output_type": "display_data",
          "data": {
            "text/plain": [
              "         predicted\n",
              "observed  Alpha Beta Delta Omicron\n",
              "  Alpha     242    2     6      11\n",
              "  Beta        6    7     0       1\n",
              "  Delta      15    0    67      10\n",
              "  Omicron     7    0     2     196"
            ]
          },
          "metadata": {}
        },
        {
          "output_type": "display_data",
          "data": {
            "text/html": [
              "89.5104895104895"
            ],
            "text/markdown": "89.5104895104895",
            "text/latex": "89.5104895104895",
            "text/plain": [
              "[1] 89.51049"
            ]
          },
          "metadata": {}
        },
        {
          "output_type": "display_data",
          "data": {
            "text/html": [
              "<style>\n",
              ".dl-inline {width: auto; margin:0; padding: 0}\n",
              ".dl-inline>dt, .dl-inline>dd {float: none; width: auto; display: inline-block}\n",
              ".dl-inline>dt::after {content: \":\\0020\"; padding-right: .5ex}\n",
              ".dl-inline>dt:not(:first-of-type) {padding-left: .5ex}\n",
              "</style><dl class=dl-inline><dt>Alpha</dt><dd>92.72030651341</dd><dt>Beta</dt><dd>50</dd><dt>Delta</dt><dd>72.8260869565217</dd><dt>Omicron</dt><dd>95.609756097561</dd></dl>\n"
            ],
            "text/markdown": "Alpha\n:   92.72030651341Beta\n:   50Delta\n:   72.8260869565217Omicron\n:   95.609756097561\n\n",
            "text/latex": "\\begin{description*}\n\\item[Alpha] 92.72030651341\n\\item[Beta] 50\n\\item[Delta] 72.8260869565217\n\\item[Omicron] 95.609756097561\n\\end{description*}\n",
            "text/plain": [
              "   Alpha     Beta    Delta  Omicron \n",
              "92.72031 50.00000 72.82609 95.60976 "
            ]
          },
          "metadata": {}
        },
        {
          "output_type": "display_data",
          "data": {
            "text/html": [
              "77.7890373918732"
            ],
            "text/markdown": "77.7890373918732",
            "text/latex": "77.7890373918732",
            "text/plain": [
              "[1] 77.78904"
            ]
          },
          "metadata": {}
        }
      ]
    },
    {
      "cell_type": "code",
      "source": [
        "#### RANDOM FOREST 2 (KMER2) ----\n",
        "\n",
        "#BUILD CLASSIFIER\n",
        "\n",
        "#note using default ntree=50 as a simple assessment first\n",
        "gene_classifier <- randomForest::randomForest(x = dfTraining[, 12:27], y = as.factor(dfTraining$Variant), ntree = 50, importance = TRUE)\n",
        "\n",
        "#EVALUATE\n",
        "\n",
        "#training\n",
        "gene_classifier #check error rate estimate\n",
        "#NOTE: from confusion matrix, we can see there is higher error for the undersampled groups as expected (beta and delta)\n",
        "\n",
        "#validation\n",
        "predictValidation <- predict(gene_classifier, dfValidation[, c(1, 12:27)])\n",
        "tab <- table(observed = dfValidation$Variant, predicted = predictValidation) #validation confusion matrix\n",
        "tab\n",
        "\n",
        "#check actual prediction accuracy\n",
        "accuracy(tab)\n",
        "accuracyPerVariant(tab)\n",
        "accuracyWeighted(tab)\n",
        "#much higher accuracy!! 97.7% overall and 92.3% weighted. Beta still lagging behing at only 78% accuracy."
      ],
      "metadata": {
        "colab": {
          "base_uri": "https://localhost:8080/",
          "height": 416
        },
        "id": "ouxtGHYWUS0A",
        "outputId": "7845ee1a-1a12-4dd7-b76a-c5bb048b2883"
      },
      "execution_count": 34,
      "outputs": [
        {
          "output_type": "display_data",
          "data": {
            "text/plain": [
              "\n",
              "Call:\n",
              " randomForest(x = dfTraining[, 12:27], y = as.factor(dfTraining$Variant),      ntree = 50, importance = TRUE) \n",
              "               Type of random forest: classification\n",
              "                     Number of trees: 50\n",
              "No. of variables tried at each split: 4\n",
              "\n",
              "        OOB estimate of  error rate: 2.95%\n",
              "Confusion matrix:\n",
              "        Alpha Beta Delta Omicron class.error\n",
              "Alpha     821    0     6       7  0.01558753\n",
              "Beta        9   34     1       0  0.22727273\n",
              "Delta      12    0   267      15  0.09183673\n",
              "Omicron     3    0     1     653  0.00608828"
            ]
          },
          "metadata": {}
        },
        {
          "output_type": "display_data",
          "data": {
            "text/plain": [
              "         predicted\n",
              "observed  Alpha Beta Delta Omicron\n",
              "  Alpha     257    1     0       3\n",
              "  Beta        2   11     0       1\n",
              "  Delta       2    0    85       5\n",
              "  Omicron     0    0     3     202"
            ]
          },
          "metadata": {}
        },
        {
          "output_type": "display_data",
          "data": {
            "text/html": [
              "97.027972027972"
            ],
            "text/markdown": "97.027972027972",
            "text/latex": "97.027972027972",
            "text/plain": [
              "[1] 97.02797"
            ]
          },
          "metadata": {}
        },
        {
          "output_type": "display_data",
          "data": {
            "text/html": [
              "<style>\n",
              ".dl-inline {width: auto; margin:0; padding: 0}\n",
              ".dl-inline>dt, .dl-inline>dd {float: none; width: auto; display: inline-block}\n",
              ".dl-inline>dt::after {content: \":\\0020\"; padding-right: .5ex}\n",
              ".dl-inline>dt:not(:first-of-type) {padding-left: .5ex}\n",
              "</style><dl class=dl-inline><dt>Alpha</dt><dd>98.4674329501916</dd><dt>Beta</dt><dd>78.5714285714286</dd><dt>Delta</dt><dd>92.3913043478261</dd><dt>Omicron</dt><dd>98.5365853658537</dd></dl>\n"
            ],
            "text/markdown": "Alpha\n:   98.4674329501916Beta\n:   78.5714285714286Delta\n:   92.3913043478261Omicron\n:   98.5365853658537\n\n",
            "text/latex": "\\begin{description*}\n\\item[Alpha] 98.4674329501916\n\\item[Beta] 78.5714285714286\n\\item[Delta] 92.3913043478261\n\\item[Omicron] 98.5365853658537\n\\end{description*}\n",
            "text/plain": [
              "   Alpha     Beta    Delta  Omicron \n",
              "98.46743 78.57143 92.39130 98.53659 "
            ]
          },
          "metadata": {}
        },
        {
          "output_type": "display_data",
          "data": {
            "text/html": [
              "91.991687808825"
            ],
            "text/markdown": "91.991687808825",
            "text/latex": "91.991687808825",
            "text/plain": [
              "[1] 91.99169"
            ]
          },
          "metadata": {}
        }
      ]
    },
    {
      "cell_type": "code",
      "source": [
        "#### RANDOM FOREST 3 (KMER3) ----\n",
        "\n",
        "#BUILD CLASSIFIER\n",
        "\n",
        "gene_classifier <- randomForest::randomForest(x = dfTraining[, 28:91], y = as.factor(dfTraining$Variant), ntree = 50, importance = TRUE)\n",
        "\n",
        "#EVALUATE\n",
        "\n",
        "#training\n",
        "gene_classifier #check error rate estimate\n",
        "#NOTE: from confusion matrix, we can see there is higher error for the undersampled groups as expected (beta and delta)\n",
        "\n",
        "#validation\n",
        "predictValidation <- predict(gene_classifier, dfValidation[, c(1, 28:91)])\n",
        "tab <- table(observed = dfValidation$Variant, predicted = predictValidation) #validation confusion matrix\n",
        "tab\n",
        "\n",
        "#check actual prediction accuracy\n",
        "accuracy(tab)\n",
        "accuracyPerVariant(tab)\n",
        "accuracyWeighted(tab)\n",
        "#wow, 100% accuracy for alpha and beta variants! Beta and delta still lagging behind, causing overall accuracy of 98.9 and weighted accuracy to be 95.3. Beta at 85.7%\n"
      ],
      "metadata": {
        "colab": {
          "base_uri": "https://localhost:8080/",
          "height": 416
        },
        "id": "T7RNaCBCUTWZ",
        "outputId": "de889dde-ab3f-451f-8751-cfe18c386f55"
      },
      "execution_count": 35,
      "outputs": [
        {
          "output_type": "display_data",
          "data": {
            "text/plain": [
              "\n",
              "Call:\n",
              " randomForest(x = dfTraining[, 28:91], y = as.factor(dfTraining$Variant),      ntree = 50, importance = TRUE) \n",
              "               Type of random forest: classification\n",
              "                     Number of trees: 50\n",
              "No. of variables tried at each split: 8\n",
              "\n",
              "        OOB estimate of  error rate: 1.48%\n",
              "Confusion matrix:\n",
              "        Alpha Beta Delta Omicron class.error\n",
              "Alpha     832    0     1       1 0.002398082\n",
              "Beta        7   37     0       0 0.159090909\n",
              "Delta       6    0   278      10 0.054421769\n",
              "Omicron     0    0     2     655 0.003044140"
            ]
          },
          "metadata": {}
        },
        {
          "output_type": "display_data",
          "data": {
            "text/plain": [
              "         predicted\n",
              "observed  Alpha Beta Delta Omicron\n",
              "  Alpha     260    0     1       0\n",
              "  Beta        2   12     0       0\n",
              "  Delta       0    0    87       5\n",
              "  Omicron     0    0     0     205"
            ]
          },
          "metadata": {}
        },
        {
          "output_type": "display_data",
          "data": {
            "text/html": [
              "98.6013986013986"
            ],
            "text/markdown": "98.6013986013986",
            "text/latex": "98.6013986013986",
            "text/plain": [
              "[1] 98.6014"
            ]
          },
          "metadata": {}
        },
        {
          "output_type": "display_data",
          "data": {
            "text/html": [
              "<style>\n",
              ".dl-inline {width: auto; margin:0; padding: 0}\n",
              ".dl-inline>dt, .dl-inline>dd {float: none; width: auto; display: inline-block}\n",
              ".dl-inline>dt::after {content: \":\\0020\"; padding-right: .5ex}\n",
              ".dl-inline>dt:not(:first-of-type) {padding-left: .5ex}\n",
              "</style><dl class=dl-inline><dt>Alpha</dt><dd>99.6168582375479</dd><dt>Beta</dt><dd>85.7142857142857</dd><dt>Delta</dt><dd>94.5652173913043</dd><dt>Omicron</dt><dd>100</dd></dl>\n"
            ],
            "text/markdown": "Alpha\n:   99.6168582375479Beta\n:   85.7142857142857Delta\n:   94.5652173913043Omicron\n:   100\n\n",
            "text/latex": "\\begin{description*}\n\\item[Alpha] 99.6168582375479\n\\item[Beta] 85.7142857142857\n\\item[Delta] 94.5652173913043\n\\item[Omicron] 100\n\\end{description*}\n",
            "text/plain": [
              "    Alpha      Beta     Delta   Omicron \n",
              " 99.61686  85.71429  94.56522 100.00000 "
            ]
          },
          "metadata": {}
        },
        {
          "output_type": "display_data",
          "data": {
            "text/html": [
              "94.9740903357845"
            ],
            "text/markdown": "94.9740903357845",
            "text/latex": "94.9740903357845",
            "text/plain": [
              "[1] 94.97409"
            ]
          },
          "metadata": {}
        }
      ]
    },
    {
      "cell_type": "code",
      "source": [
        "#### RANDOM FOREST 4 (KMER4) ----\n",
        "\n",
        "#BUILD CLASSIFIER\n",
        "\n",
        "gene_classifier <- randomForest::randomForest(x = dfTraining[, 92:347], y = as.factor(dfTraining$Variant), ntree = 50, importance = TRUE)\n",
        "\n",
        "#EVALUATE\n",
        "\n",
        "#training\n",
        "gene_classifier #check error rate estimate\n",
        "#NOTE: from confusion matrix, we can see there is higher error for the undersampled groups as expected (beta and delta)\n",
        "\n",
        "#validation\n",
        "predictValidation <- predict(gene_classifier, dfValidation[, c(1, 92:347)])\n",
        "tab <- table(observed = dfValidation$Variant, predicted = predictValidation) #validation confusion matrix\n",
        "tab\n",
        "\n",
        "#check actual prediction accuracy\n",
        "accuracy(tab)\n",
        "accuracyPerVariant(tab)\n",
        "accuracyWeighted(tab)\n",
        "#not much difference here, we have reached the limit to how well we can differentiate these variants based on poor class balance for random forest (we will no longe rbe looking at kmer 4)\n",
        "#interestingly, same confusion matrix as kmer3. Perhaps those few inaccurate sequences have differences that make them difficult to group? Could they represent transition states between alpha-beta (etc.) variants? Very interesting questions for the future and also great way to examine the evolution of COVID spike proteins"
      ],
      "metadata": {
        "colab": {
          "base_uri": "https://localhost:8080/",
          "height": 416
        },
        "id": "ZWsTBbbNUV_B",
        "outputId": "9fc550a9-36c3-4fa0-bc52-9e03f19f59e8"
      },
      "execution_count": 27,
      "outputs": [
        {
          "output_type": "display_data",
          "data": {
            "text/plain": [
              "\n",
              "Call:\n",
              " randomForest(x = dfTraining[, 92:347], y = as.factor(dfTraining$Variant),      ntree = 50, importance = TRUE) \n",
              "               Type of random forest: classification\n",
              "                     Number of trees: 50\n",
              "No. of variables tried at each split: 16\n",
              "\n",
              "        OOB estimate of  error rate: 1.09%\n",
              "Confusion matrix:\n",
              "        Alpha Beta Delta Omicron class.error\n",
              "Alpha     834    0     0       0  0.00000000\n",
              "Beta        5   38     1       0  0.13636364\n",
              "Delta       4    0   281       9  0.04421769\n",
              "Omicron     1    0     0     656  0.00152207"
            ]
          },
          "metadata": {}
        },
        {
          "output_type": "display_data",
          "data": {
            "text/plain": [
              "         predicted\n",
              "observed  Alpha Beta Delta Omicron\n",
              "  Alpha     261    0     0       0\n",
              "  Beta        2   12     0       0\n",
              "  Delta       0    0    87       5\n",
              "  Omicron     0    0     0     205"
            ]
          },
          "metadata": {}
        },
        {
          "output_type": "display_data",
          "data": {
            "text/html": [
              "98.7762237762238"
            ],
            "text/markdown": "98.7762237762238",
            "text/latex": "98.7762237762238",
            "text/plain": [
              "[1] 98.77622"
            ]
          },
          "metadata": {}
        },
        {
          "output_type": "display_data",
          "data": {
            "text/html": [
              "<style>\n",
              ".dl-inline {width: auto; margin:0; padding: 0}\n",
              ".dl-inline>dt, .dl-inline>dd {float: none; width: auto; display: inline-block}\n",
              ".dl-inline>dt::after {content: \":\\0020\"; padding-right: .5ex}\n",
              ".dl-inline>dt:not(:first-of-type) {padding-left: .5ex}\n",
              "</style><dl class=dl-inline><dt>Alpha</dt><dd>100</dd><dt>Beta</dt><dd>85.7142857142857</dd><dt>Delta</dt><dd>94.5652173913043</dd><dt>Omicron</dt><dd>100</dd></dl>\n"
            ],
            "text/markdown": "Alpha\n:   100Beta\n:   85.7142857142857Delta\n:   94.5652173913043Omicron\n:   100\n\n",
            "text/latex": "\\begin{description*}\n\\item[Alpha] 100\n\\item[Beta] 85.7142857142857\n\\item[Delta] 94.5652173913043\n\\item[Omicron] 100\n\\end{description*}\n",
            "text/plain": [
              "    Alpha      Beta     Delta   Omicron \n",
              "100.00000  85.71429  94.56522 100.00000 "
            ]
          },
          "metadata": {}
        },
        {
          "output_type": "display_data",
          "data": {
            "text/html": [
              "95.0698757763975"
            ],
            "text/markdown": "95.0698757763975",
            "text/latex": "95.0698757763975",
            "text/plain": [
              "[1] 95.06988"
            ]
          },
          "metadata": {}
        }
      ]
    },
    {
      "cell_type": "code",
      "source": [
        "#### K-NN () ----\n",
        "\n",
        "#import library\n",
        "library(class)\n",
        "\n",
        "#normalization function\n",
        "nor <-function(x) { (x -min(x))/(max(x)-min(x))   }\n",
        "\n",
        "set.seed(200)\n",
        "\n",
        "#BUILD CLASSIFIER (ATG)\n",
        "\n",
        "#normalize training and validation data\n",
        "dfValidationNorm <- as.data.frame(lapply(dfValidation[,c(9:11)], nor))\n",
        "dfTrainingNorm <- as.data.frame(lapply(dfTraining[,c(9:11)], nor))\n",
        "\n",
        "#create prediction classifier, use k=9 (various k were tried: recommended sqrt of all data did not work, but sqrt of smallest stat group works well! (9*9=81 == approx beta data size))\n",
        "pr <- knn(train = dfTrainingNorm, test = dfValidationNorm, cl = dfTraining$Variant, k=9)\n",
        "\n",
        "#confustion matrix\n",
        "tab <- table(dfValidation$Variant, pr)\n",
        "tab\n",
        "\n",
        "#check actual prediction accuracy\n",
        "accuracy(tab)\n",
        "accuracyPerVariant(tab)\n",
        "accuracyWeighted(tab)\n",
        "#interestingly more poorly predicting for delta than beta...\n",
        "\n",
        "#BUILD CLASSIFIER (KMER2)\n",
        "\n",
        "#normalize training and validation data\n",
        "dfValidationNorm <- as.data.frame(lapply(dfValidation[,c(12:27)], nor))\n",
        "dfTrainingNorm <- as.data.frame(lapply(dfTraining[,c(12:27)], nor))\n",
        "#create prediction classifier, use k=9 (various k were tried: recommended sqrt of all data did not work, but sqrt of smallest stat group works well! (9*9=81 == approx beta data size))\n",
        "pr <- knn(train = dfTrainingNorm, test = dfValidationNorm, cl = dfTraining$Variant, k=9)\n",
        "#confusion matrix\n",
        "tab <- table(dfValidation$Variant, pr)\n",
        "tab\n",
        "#check actual prediction accuracy\n",
        "accuracy(tab)\n",
        "accuracyPerVariant(tab)\n",
        "accuracyWeighted(tab)\n",
        "# overall 97.4, 92.2 weighted, beta performed most poorly at 78.6\n",
        "\n",
        "#BUILD CLASSIFIER (KMER3)\n",
        "\n",
        "#normalize training and validation data\n",
        "dfValidationNorm <- as.data.frame(lapply(dfValidation[,c(28:91)], nor))\n",
        "dfTrainingNorm <- as.data.frame(lapply(dfTraining[,c(28:91)], nor))\n",
        "#create prediction classifier, use k=9 (various k were tried: recommended sqrt of all data did not work, but sqrt of smallest stat group works well! (9*9=81 == approx beta data size))\n",
        "pr <- knn(train = dfTrainingNorm, test = dfValidationNorm, cl = dfTraining$Variant, k=9)\n",
        "#confustion matrix\n",
        "tab <- table(dfValidation$Variant, pr)\n",
        "tab\n",
        "#check actual prediction accuracy\n",
        "accuracy(tab)\n",
        "accuracyPerVariant(tab)\n",
        "accuracyWeighted(tab)\n",
        "#higher accuracy: 98.8 overall, 96.9 weighted, beta at 92.6 (Better than Rand forest for class imbalance!)"
      ],
      "metadata": {
        "colab": {
          "base_uri": "https://localhost:8080/",
          "height": 486
        },
        "id": "giMa_i_YUYgj",
        "outputId": "a12fff0e-fb51-47ae-cde3-3065f99cefd7"
      },
      "execution_count": 28,
      "outputs": [
        {
          "output_type": "display_data",
          "data": {
            "text/plain": [
              "         pr\n",
              "          Alpha Beta Delta Omicron\n",
              "  Alpha       7   11     1     242\n",
              "  Beta        1    9     0       4\n",
              "  Delta       6    2     4      80\n",
              "  Omicron     1    1     1     202"
            ]
          },
          "metadata": {}
        },
        {
          "output_type": "display_data",
          "data": {
            "text/html": [
              "38.8111888111888"
            ],
            "text/markdown": "38.8111888111888",
            "text/latex": "38.8111888111888",
            "text/plain": [
              "[1] 38.81119"
            ]
          },
          "metadata": {}
        },
        {
          "output_type": "display_data",
          "data": {
            "text/html": [
              "<style>\n",
              ".dl-inline {width: auto; margin:0; padding: 0}\n",
              ".dl-inline>dt, .dl-inline>dd {float: none; width: auto; display: inline-block}\n",
              ".dl-inline>dt::after {content: \":\\0020\"; padding-right: .5ex}\n",
              ".dl-inline>dt:not(:first-of-type) {padding-left: .5ex}\n",
              "</style><dl class=dl-inline><dt>Alpha</dt><dd>2.68199233716475</dd><dt>Beta</dt><dd>64.2857142857143</dd><dt>Delta</dt><dd>4.34782608695652</dd><dt>Omicron</dt><dd>98.5365853658537</dd></dl>\n"
            ],
            "text/markdown": "Alpha\n:   2.68199233716475Beta\n:   64.2857142857143Delta\n:   4.34782608695652Omicron\n:   98.5365853658537\n\n",
            "text/latex": "\\begin{description*}\n\\item[Alpha] 2.68199233716475\n\\item[Beta] 64.2857142857143\n\\item[Delta] 4.34782608695652\n\\item[Omicron] 98.5365853658537\n\\end{description*}\n",
            "text/plain": [
              "    Alpha      Beta     Delta   Omicron \n",
              " 2.681992 64.285714  4.347826 98.536585 "
            ]
          },
          "metadata": {}
        },
        {
          "output_type": "display_data",
          "data": {
            "text/html": [
              "42.4630295189223"
            ],
            "text/markdown": "42.4630295189223",
            "text/latex": "42.4630295189223",
            "text/plain": [
              "[1] 42.46303"
            ]
          },
          "metadata": {}
        },
        {
          "output_type": "display_data",
          "data": {
            "text/plain": [
              "         pr\n",
              "          Alpha Beta Delta Omicron\n",
              "  Alpha     258    1     0       2\n",
              "  Beta        3   11     0       0\n",
              "  Delta      10    0    78       4\n",
              "  Omicron     0    0     2     203"
            ]
          },
          "metadata": {}
        },
        {
          "output_type": "display_data",
          "data": {
            "text/html": [
              "96.1538461538462"
            ],
            "text/markdown": "96.1538461538462",
            "text/latex": "96.1538461538462",
            "text/plain": [
              "[1] 96.15385"
            ]
          },
          "metadata": {}
        },
        {
          "output_type": "display_data",
          "data": {
            "text/html": [
              "<style>\n",
              ".dl-inline {width: auto; margin:0; padding: 0}\n",
              ".dl-inline>dt, .dl-inline>dd {float: none; width: auto; display: inline-block}\n",
              ".dl-inline>dt::after {content: \":\\0020\"; padding-right: .5ex}\n",
              ".dl-inline>dt:not(:first-of-type) {padding-left: .5ex}\n",
              "</style><dl class=dl-inline><dt>Alpha</dt><dd>98.8505747126437</dd><dt>Beta</dt><dd>78.5714285714286</dd><dt>Delta</dt><dd>84.7826086956522</dd><dt>Omicron</dt><dd>99.0243902439024</dd></dl>\n"
            ],
            "text/markdown": "Alpha\n:   98.8505747126437Beta\n:   78.5714285714286Delta\n:   84.7826086956522Omicron\n:   99.0243902439024\n\n",
            "text/latex": "\\begin{description*}\n\\item[Alpha] 98.8505747126437\n\\item[Beta] 78.5714285714286\n\\item[Delta] 84.7826086956522\n\\item[Omicron] 99.0243902439024\n\\end{description*}\n",
            "text/plain": [
              "   Alpha     Beta    Delta  Omicron \n",
              "98.85057 78.57143 84.78261 99.02439 "
            ]
          },
          "metadata": {}
        },
        {
          "output_type": "display_data",
          "data": {
            "text/html": [
              "90.3072505559067"
            ],
            "text/markdown": "90.3072505559067",
            "text/latex": "90.3072505559067",
            "text/plain": [
              "[1] 90.30725"
            ]
          },
          "metadata": {}
        },
        {
          "output_type": "display_data",
          "data": {
            "text/plain": [
              "         pr\n",
              "          Alpha Beta Delta Omicron\n",
              "  Alpha     260    0     1       0\n",
              "  Beta        1   13     0       0\n",
              "  Delta       3    0    88       1\n",
              "  Omicron     0    0     0     205"
            ]
          },
          "metadata": {}
        },
        {
          "output_type": "display_data",
          "data": {
            "text/html": [
              "98.9510489510489"
            ],
            "text/markdown": "98.9510489510489",
            "text/latex": "98.9510489510489",
            "text/plain": [
              "[1] 98.95105"
            ]
          },
          "metadata": {}
        },
        {
          "output_type": "display_data",
          "data": {
            "text/html": [
              "<style>\n",
              ".dl-inline {width: auto; margin:0; padding: 0}\n",
              ".dl-inline>dt, .dl-inline>dd {float: none; width: auto; display: inline-block}\n",
              ".dl-inline>dt::after {content: \":\\0020\"; padding-right: .5ex}\n",
              ".dl-inline>dt:not(:first-of-type) {padding-left: .5ex}\n",
              "</style><dl class=dl-inline><dt>Alpha</dt><dd>99.6168582375479</dd><dt>Beta</dt><dd>92.8571428571429</dd><dt>Delta</dt><dd>95.6521739130435</dd><dt>Omicron</dt><dd>100</dd></dl>\n"
            ],
            "text/markdown": "Alpha\n:   99.6168582375479Beta\n:   92.8571428571429Delta\n:   95.6521739130435Omicron\n:   100\n\n",
            "text/latex": "\\begin{description*}\n\\item[Alpha] 99.6168582375479\n\\item[Beta] 92.8571428571429\n\\item[Delta] 95.6521739130435\n\\item[Omicron] 100\n\\end{description*}\n",
            "text/plain": [
              "    Alpha      Beta     Delta   Omicron \n",
              " 99.61686  92.85714  95.65217 100.00000 "
            ]
          },
          "metadata": {}
        },
        {
          "output_type": "display_data",
          "data": {
            "text/html": [
              "97.0315437519336"
            ],
            "text/markdown": "97.0315437519336",
            "text/latex": "97.0315437519336",
            "text/plain": [
              "[1] 97.03154"
            ]
          },
          "metadata": {}
        }
      ]
    },
    {
      "cell_type": "code",
      "source": [
        "#### VISUALIZATION 1: Representative tree ----\n",
        "\n",
        "#installation (from https://stats.stackexchange.com/questions/41443/how-to-actually-plot-a-sample-tree-from-randomforestgettree)\n",
        "options(repos='http://cran.rstudio.org')\n",
        "have.packages <- installed.packages()\n",
        "cran.packages <- c('devtools','plotrix','randomForest','tree')\n",
        "to.install <- setdiff(cran.packages, have.packages[,1])\n",
        "if(length(to.install)>0) install.packages(to.install)\n",
        "\n",
        "#load libraries\n",
        "library(devtools)\n",
        "if(!('reprtree' %in% installed.packages())){install_github('munoztd0/reprtree')}\n",
        "for(p in c(cran.packages, 'reprtree')) eval(substitute(library(pkg), list(pkg=p)))\n",
        "\n",
        "\n",
        "library(randomForest)\n",
        "library(reprtree)\n",
        "\n",
        "#draw tree for random forest ATG (for simplicity)\n",
        "set.seed(500)\n",
        "dfTrainingModel <- round(dfTraining[, 9:11], 3) #round smaller so we can see in tree visual.\n",
        "dfTrainingModel$Variant <- as.factor(substr(dfTraining$Variant, 1, 1)) #take only first letter of variants so we can see in visual\n",
        "model <- randomForest(Variant ~ ., data=dfTrainingModel,  ntree = 100, importance = TRUE, do.trace = 100) #train model\n",
        "model\n",
        "reprtree::plot.getTree(model, main=\"Representative Tree for AGT Proportion\") #draw tree\n",
        "\n",
        "#repeat for KMER2\n",
        "set.seed(500)\n",
        "dfTrainingModel <- round(dfTraining[, 12:27], 3)\n",
        "dfTrainingModel$Variant <- as.factor(substr(dfTraining$Variant, 1, 1))\n",
        "model <- randomForest(Variant ~ ., data=dfTrainingModel,  ntree = 100, importance = TRUE, do.trace = 100)\n",
        "model\n",
        "reprtree::plot.getTree(model, main=\"Representative Tree for K-mer 2\")\n",
        "\n",
        "#repeat for KMER 3\n",
        "set.seed(500)\n",
        "dfTrainingModel <- round(dfTraining[, 28:91], 3)\n",
        "dfTrainingModel$Variant <- as.factor(substr(dfTraining$Variant, 1, 1))\n",
        "model <- randomForest(Variant ~ ., data=dfTrainingModel,  ntree = 100, importance = TRUE, do.trace = 100)\n",
        "model\n",
        "reprtree::plot.getTree(model, main=\"Representative Tree for K-mer 3\")\n",
        "\n"
      ],
      "metadata": {
        "colab": {
          "base_uri": "https://localhost:8080/",
          "height": 1000
        },
        "id": "6phZHmwoUa78",
        "outputId": "4109f13e-32c4-42b8-fcd4-2f8932734663"
      },
      "execution_count": 29,
      "outputs": [
        {
          "output_type": "stream",
          "name": "stderr",
          "text": [
            "Installing packages into ‘/usr/local/lib/R/site-library’\n",
            "(as ‘lib’ is unspecified)\n",
            "\n",
            "Loading required package: usethis\n",
            "\n",
            "\n",
            "Attaching package: ‘devtools’\n",
            "\n",
            "\n",
            "The following object is masked from ‘package:BiocManager’:\n",
            "\n",
            "    install\n",
            "\n",
            "\n",
            "Downloading GitHub repo munoztd0/reprtree@HEAD\n",
            "\n"
          ]
        },
        {
          "output_type": "stream",
          "name": "stdout",
          "text": [
            "\n",
            "\u001b[36m──\u001b[39m \u001b[36mR CMD build\u001b[39m \u001b[36m─────────────────────────────────────────────────────────────────\u001b[39m\n",
            "* checking for file ‘/tmp/RtmpSjzUks/remotes1511238975/munoztd0-reprtree-583b8a3/DESCRIPTION’ ... OK\n",
            "* preparing ‘reprtree’:\n",
            "* checking DESCRIPTION meta-information ... OK\n",
            "* checking for LF line-endings in source and make files and shell scripts\n",
            "* checking for empty or unneeded directories\n",
            "* building ‘reprtree_0.6.tar.gz’\n",
            "\n"
          ]
        },
        {
          "output_type": "stream",
          "name": "stderr",
          "text": [
            "Installing package into ‘/usr/local/lib/R/site-library’\n",
            "(as ‘lib’ is unspecified)\n",
            "\n",
            "Registered S3 method overwritten by 'reprtree':\n",
            "  method    from\n",
            "  text.tree tree\n",
            "\n"
          ]
        },
        {
          "output_type": "stream",
          "name": "stdout",
          "text": [
            "ntree      OOB      1      2      3      4\n",
            "  100:  17.77% 16.55% 81.82% 28.23% 10.35%\n"
          ]
        },
        {
          "output_type": "display_data",
          "data": {
            "text/plain": [
              "\n",
              "Call:\n",
              " randomForest(formula = Variant ~ ., data = dfTrainingModel, ntree = 100,      importance = TRUE, do.trace = 100) \n",
              "               Type of random forest: classification\n",
              "                     Number of trees: 100\n",
              "No. of variables tried at each split: 1\n",
              "\n",
              "        OOB estimate of  error rate: 17.77%\n",
              "Confusion matrix:\n",
              "    A B   D   O class.error\n",
              "A 696 8  68  62   0.1654676\n",
              "B  33 8   1   2   0.8181818\n",
              "D  24 0 211  59   0.2823129\n",
              "O  30 0  38 589   0.1035008"
            ]
          },
          "metadata": {}
        },
        {
          "output_type": "stream",
          "name": "stdout",
          "text": [
            "ntree      OOB      1      2      3      4\n",
            "  100:   3.94%  1.68% 25.00% 11.90%  1.83%\n"
          ]
        },
        {
          "output_type": "display_data",
          "data": {
            "text/plain": [
              "\n",
              "Call:\n",
              " randomForest(formula = Variant ~ ., data = dfTrainingModel, ntree = 100,      importance = TRUE, do.trace = 100) \n",
              "               Type of random forest: classification\n",
              "                     Number of trees: 100\n",
              "No. of variables tried at each split: 4\n",
              "\n",
              "        OOB estimate of  error rate: 3.94%\n",
              "Confusion matrix:\n",
              "    A  B   D   O class.error\n",
              "A 820  0   7   7  0.01678657\n",
              "B   6 33   4   1  0.25000000\n",
              "D  13  1 259  21  0.11904762\n",
              "O   5  0   7 645  0.01826484"
            ]
          },
          "metadata": {}
        },
        {
          "output_type": "display_data",
          "data": {
            "text/plain": [
              "Plot with title “Representative Tree for AGT Proportion”"
            ],
            "image/png": "[encoded data removed]"
          },
          "metadata": {
            "image/png": {
              "width": 420,
              "height": 420
            }
          }
        },
        {
          "output_type": "stream",
          "name": "stdout",
          "text": [
            "ntree      OOB      1      2      3      4\n",
            "  100:   1.37%  0.00% 13.64%  6.12%  0.15%\n"
          ]
        },
        {
          "output_type": "display_data",
          "data": {
            "text/plain": [
              "\n",
              "Call:\n",
              " randomForest(formula = Variant ~ ., data = dfTrainingModel, ntree = 100,      importance = TRUE, do.trace = 100) \n",
              "               Type of random forest: classification\n",
              "                     Number of trees: 100\n",
              "No. of variables tried at each split: 8\n",
              "\n",
              "        OOB estimate of  error rate: 1.37%\n",
              "Confusion matrix:\n",
              "    A  B   D   O class.error\n",
              "A 834  0   0   0  0.00000000\n",
              "B   6 38   0   0  0.13636364\n",
              "D   7  0 276  11  0.06122449\n",
              "O   1  0   0 656  0.00152207"
            ]
          },
          "metadata": {}
        },
        {
          "output_type": "display_data",
          "data": {
            "text/plain": [
              "Plot with title “Representative Tree for K-mer 2”"
            ],
            "image/png": "[encoded data removed]"
          },
          "metadata": {
            "image/png": {
              "width": 420,
              "height": 420
            }
          }
        },
        {
          "output_type": "display_data",
          "data": {
            "text/plain": [
              "Plot with title “Representative Tree for K-mer 3”"
            ],
            "image/png": "[encoded data removed]"
          },
          "metadata": {
            "image/png": {
              "width": 420,
              "height": 420
            }
          }
        }
      ]
    }
  ]
}